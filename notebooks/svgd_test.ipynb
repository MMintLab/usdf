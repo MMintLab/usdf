{
 "cells": [
  {
   "cell_type": "code",
   "execution_count": null,
   "id": "61359e45",
   "metadata": {},
   "outputs": [],
   "source": [
    "%load_ext autoreload\n",
    "%autoreload 2"
   ]
  },
  {
   "cell_type": "code",
   "execution_count": null,
   "id": "47088d36-a56e-416d-ad9b-25795b7770a3",
   "metadata": {},
   "outputs": [],
   "source": [
    "import numpy as np\n",
    "import os\n",
    "import open3d as o3d\n",
    "import seaborn as sns\n",
    "import torch\n",
    "import torch.nn as nn\n",
    "import torch.nn.functional as F\n",
    "import torch.autograd as autograd\n",
    "import torch.optim as optim\n",
    "import pytorch_volumetric as pv\n",
    "import matplotlib.pyplot as plt\n",
    "from tqdm import tqdm\n",
    "\n",
    "\n",
    "from usdf.utils.render_utils import depth_to_free_points\n",
    "from mmint_tools import tr, matrix_to_pose, pose_to_matrix\n",
    "from mmint_tools.camera_tools.img_utils import project_depth_image\n",
    "from mmint_tools.notebook_tools.notebook_tools import view_points, view_mesh, view_pointcloud, view_points_groups\n",
    "from mmint_tools.camera_tools.pointcloud_utils import mesh_to_pointcloud, generate_partial_pc, generate_partial_view, pack_o3d_pcd, unpack_o3d_pcd, tr_pointcloud"
   ]
  },
  {
   "cell_type": "code",
   "execution_count": null,
   "id": "57adef64-021b-4d47-b6c9-c617311bddee",
   "metadata": {},
   "outputs": [],
   "source": [
    "# load ycb mug\n",
    "TEST_PATH = '/home/mik/Desktop/test'\n",
    "YCB_MUG_PATH = '/home/mik/Downloads/025_mug/google_16k/nontextured.ply'"
   ]
  },
  {
   "cell_type": "markdown",
   "id": "3b7a7d9b",
   "metadata": {},
   "source": [
    "# Define basic functions:"
   ]
  },
  {
   "cell_type": "code",
   "execution_count": null,
   "id": "14bc1341",
   "metadata": {},
   "outputs": [],
   "source": [
    "def rotate_model_zaxis(model, theta):\n",
    "    # model (k, 3)\n",
    "    # thetas(...)\n",
    "    # out: (..., k,3)\n",
    "    ctheta = torch.cos(theta)\n",
    "    stheta = torch.sin(theta)\n",
    "    ones = torch.ones_like(theta, dtype=theta.dtype)\n",
    "    zeros = torch.zeros_like(theta, dtype=theta.dtype)\n",
    "    R1x = torch.stack([ctheta, -stheta, zeros], dim=-1)\n",
    "    R2x = torch.stack([stheta, ctheta, zeros], dim=-1)\n",
    "    R3x = torch.stack([zeros, zeros, ones], dim=-1)\n",
    "    R = torch.stack([R1x, R2x, R3x], dim=-2)\n",
    "    # transform the model points\n",
    "    model_tr = torch.einsum('...ij,kj->...ki', R, model)\n",
    "    return model_tr\n",
    "\n",
    "def tr_points(points, T):\n",
    "    # points (...,3) torch tensor\n",
    "    # T: (4,4) torch tensor\n",
    "    points_hom = torch.cat([points, torch.ones_like(points[...,0:1])], axis=-1)\n",
    "    points_tr_hom = torch.einsum('ij,...j->...i', T, points_hom)\n",
    "    points_tr = points_tr_hom[...,:3]\n",
    "    return points_tr"
   ]
  },
  {
   "cell_type": "code",
   "execution_count": null,
   "id": "1f376160",
   "metadata": {},
   "outputs": [],
   "source": []
  },
  {
   "cell_type": "code",
   "execution_count": null,
   "id": "bca55c36",
   "metadata": {},
   "outputs": [],
   "source": []
  },
  {
   "cell_type": "code",
   "execution_count": null,
   "id": "2524c6b3",
   "metadata": {},
   "outputs": [],
   "source": []
  },
  {
   "cell_type": "markdown",
   "id": "0b8eb919",
   "metadata": {},
   "source": [
    "# Load Mugs"
   ]
  },
  {
   "cell_type": "code",
   "execution_count": null,
   "id": "f911e9ff-766e-40db-a58f-8fc828d7c490",
   "metadata": {},
   "outputs": [],
   "source": [
    "# load and visualize \n",
    "\n",
    "mesh = o3d.io.read_triangle_mesh(YCB_MUG_PATH)\n",
    "pc = mesh_to_pointcloud(mesh, num_points=5000)"
   ]
  },
  {
   "cell_type": "code",
   "execution_count": null,
   "id": "3f4b7917-dd08-4e6b-b8dd-9482a2cc61ee",
   "metadata": {},
   "outputs": [],
   "source": [
    "view_pointcloud(pc)"
   ]
  },
  {
   "cell_type": "code",
   "execution_count": null,
   "id": "9ade027a",
   "metadata": {},
   "outputs": [],
   "source": [
    "# load ycb mug with no handle to correct for the offset\n",
    "YCB_MUG_NOHANDLE_PATH = '/home/mik/Downloads/025_mug/google_16k/nontextured_no_handle.ply'\n",
    "mesh_nohandle = o3d.io.read_triangle_mesh(YCB_MUG_NOHANDLE_PATH)\n",
    "pc_nohandle = mesh_to_pointcloud(mesh_nohandle, num_points=5000)\n",
    "pc_nohandle_mean = np.mean(pc_nohandle, axis=0)\n",
    "print(pc_nohandle_mean)\n",
    "view_pointcloud(pc_nohandle)"
   ]
  },
  {
   "cell_type": "markdown",
   "id": "1614dc15",
   "metadata": {},
   "source": [
    "### Center the pointcloud "
   ]
  },
  {
   "cell_type": "code",
   "execution_count": null,
   "id": "cda40ca8",
   "metadata": {},
   "outputs": [],
   "source": [
    "pc_mean = np.mean(pc, axis=0) # note that the y axis is symmetic, while x is not.\n",
    "center_tr = np.array([-pc_nohandle_mean[0], -pc_nohandle_mean[1], 0, 0, 0, 0, 1])\n",
    "\n",
    "pc_centered = tr_pointcloud(pc, T=pose_to_matrix(center_tr))\n",
    "\n",
    "view_pointcloud(pc_centered)\n"
   ]
  },
  {
   "cell_type": "code",
   "execution_count": null,
   "id": "f3890de9",
   "metadata": {},
   "outputs": [],
   "source": [
    "# verify it is centered by visualizing a set of transformations\n",
    "points_centered = torch.tensor(pc_centered[..., :3], dtype=torch.float32)\n",
    "angles = torch.linspace(-np.pi,np.pi, 6)\n",
    "models_rotated = rotate_model_zaxis(points_centered, angles)\n",
    "\n",
    "palette = sns.color_palette(\"Spectral\", as_cmap=True)\n",
    "color_list = palette(np.linspace(0,1,len(models_rotated)))\n",
    "points = models_rotated.detach().cpu().numpy()\n",
    "view_points_groups(points_xyz_list=points, \n",
    "                       colors_list=color_list, \n",
    "                       marker_size_list=[5 for i in color_list])\n"
   ]
  },
  {
   "cell_type": "markdown",
   "id": "7c4c0b02",
   "metadata": {},
   "source": [
    "Conclusion: We have a good fit"
   ]
  },
  {
   "cell_type": "markdown",
   "id": "4564cd44-35e5-4795-9660-aaf809def0e8",
   "metadata": {},
   "source": [
    "### Get a partial view"
   ]
  },
  {
   "cell_type": "code",
   "execution_count": null,
   "id": "5c2ca147-c896-4257-9662-6ae20f36660b",
   "metadata": {},
   "outputs": [],
   "source": [
    "partial_pcd = generate_partial_pc(mesh, view_axis=np.array([-1.0, .0, .0]), look_at=np.array([0, 0, 0.04]))\n",
    "\n",
    "# further crop the pointcloud to get only the points that are close to the maximum in x\n",
    "x_min = np.min(partial_pcd.points, axis=0)[0]\n",
    "max_d = 0.02\n",
    "partial_pcd = partial_pcd.crop(o3d.geometry.AxisAlignedBoundingBox([-np.inf, -np.inf, -np.inf], [x_min + max_d, np.inf, np.inf]))\n",
    "    \n",
    "partial_pc = unpack_o3d_pcd(partial_pcd)\n",
    "print('Num of points, ', len(partial_pc))\n",
    "\n",
    "num_points = 1000\n",
    "partial_pc_downsampled = partial_pc[np.random.choice(np.arange(len(partial_pc)), num_points, replace=False)]\n",
    "print(partial_pc_downsampled.shape)\n",
    "view_pointcloud(partial_pc_downsampled)"
   ]
  },
  {
   "cell_type": "markdown",
   "id": "7dd12f22-bbb3-40e3-b806-2ac0a2045592",
   "metadata": {},
   "source": [
    "### Obtain free space information"
   ]
  },
  {
   "cell_type": "code",
   "execution_count": null,
   "id": "f8c96e9b-008a-4177-8c74-e7a1910c3de6",
   "metadata": {},
   "outputs": [],
   "source": [
    "partial_depth_img, camera = generate_partial_view(mesh, view_axis=np.array([-1., .0, .0]), look_at=np.array([0, 0, 0.04]))\n",
    "partial_depth_ar = np.asarray(partial_depth_img)\n",
    "print(partial_depth_ar.shape)"
   ]
  },
  {
   "cell_type": "code",
   "execution_count": null,
   "id": "4fd93f92",
   "metadata": {},
   "outputs": [],
   "source": [
    "# show partial\n",
    "plt.imshow(partial_depth_ar)"
   ]
  },
  {
   "cell_type": "code",
   "execution_count": null,
   "id": "0626f3b7",
   "metadata": {},
   "outputs": [],
   "source": [
    "def get_free_points(depth_img, K, min_depth=0., max_depth=1., num_steps=10, w_X_c=None):\n",
    "    # create a grid of depths to be evaluates\n",
    "    h,w = depth_img.shape[0], depth_img.shape[1]\n",
    "    depth_values = np.linspace(min_depth, max_depth, num_steps+1)[1:]\n",
    "    all_depths = np.repeat(np.expand_dims(depth_values, axis=1), w*h, axis=1).reshape(num_steps, h,w) # (num_steps, h, w)\n",
    "    all_Ks = np.repeat(np.expand_dims(K, axis=0), num_steps, axis=0)\n",
    "    # project the depths\n",
    "    img_xyzs = project_depth_image(all_depths, all_Ks) # (num_steps, h, w, 3)\n",
    "    depths = img_xyzs[..., -1] # (num_steps, h, w)\n",
    "    # mask dpeths that z is closer than the depths img value\n",
    "    depth_mask = depth_img.copy()\n",
    "    depth_mask[np.where(depth_img == 0.0)] = np.inf\n",
    "    mask = depths < depth_mask[None, :, :]\n",
    "    pc_out = img_xyzs[mask] # (N, 3) where N<=num_steps*h*w\n",
    "    if w_X_c is not None:\n",
    "        pc_out = tr_pointcloud(pc_out, T=w_X_c)\n",
    "    return pc_out\n",
    "    "
   ]
  },
  {
   "cell_type": "code",
   "execution_count": null,
   "id": "f0dbdb78",
   "metadata": {},
   "outputs": [],
   "source": [
    "free_points_w = get_free_points(partial_depth_ar, K=camera.intrinsic.intrinsic_matrix, min_depth=0.04, max_depth=0.2, num_steps=15, w_X_c=np.linalg.inv(camera.extrinsic))\n",
    "free_points_w.shape"
   ]
  },
  {
   "cell_type": "code",
   "execution_count": null,
   "id": "7e5e2f20",
   "metadata": {},
   "outputs": [],
   "source": [
    "# sample some and visualize them\n",
    "num_free_points = 3000 \n",
    "free_points_w_sampled = free_points_w[np.random.choice(free_points_w.shape[0], num_free_points, replace=False)]"
   ]
  },
  {
   "cell_type": "code",
   "execution_count": null,
   "id": "ddd62506",
   "metadata": {},
   "outputs": [],
   "source": [
    "view_points(free_points_w_sampled)"
   ]
  },
  {
   "cell_type": "code",
   "execution_count": null,
   "id": "90b1df45",
   "metadata": {},
   "outputs": [],
   "source": [
    "# get pointcloud from \n",
    "\n",
    "all_partial_points_from_depth_img = project_depth_image(partial_depth_ar, K=intrinsic_matrix)\n",
    "partial_points_from_depth_img = all_partial_points_from_depth_img[np.where(all_partial_points_from_depth_img[...,-1] > 0)]\n",
    "print(partial_points_from_depth_img.shape)\n",
    "partial_points_from_depth_img = tr_pointcloud(partial_points_from_depth_img, T=np.linalg.inv(camera.extrinsic))\n",
    "view_points(partial_points_from_depth_img.reshape(-1,3))"
   ]
  },
  {
   "cell_type": "markdown",
   "id": "0f3b9bce-2547-4790-b98e-c19d8974718d",
   "metadata": {},
   "source": [
    "# Process the pointcloud"
   ]
  },
  {
   "cell_type": "code",
   "execution_count": null,
   "id": "49053841",
   "metadata": {},
   "outputs": [],
   "source": [
    "T_center = pose_to_matrix(center_tr)"
   ]
  },
  {
   "cell_type": "code",
   "execution_count": null,
   "id": "8348b2a4-5d16-439f-83c8-987fda2a9b52",
   "metadata": {},
   "outputs": [],
   "source": [
    "partial_pc_centered = tr_pointcloud(partial_pc_downsampled, T=T_center)\n",
    "free_points_w_sampled_centered = tr_pointcloud(free_points_w_sampled, T=T_center)"
   ]
  },
  {
   "cell_type": "code",
   "execution_count": null,
   "id": "c89b5ff0-8fca-46ae-899b-a85388e92051",
   "metadata": {},
   "outputs": [],
   "source": [
    "class ModelRotation(nn.Module):\n",
    "\n",
    "    def __init__(self, model_pc):\n",
    "        super().__init__()\n",
    "        self.model = torch.tensor(model_pc[...,:3], dtype=torch.float32) # shape (N, 3)\n",
    "\n",
    "    def forward(self, theta):\n",
    "        # rotate the pointcloud by thetas\n",
    "        # transform the model points\n",
    "        model_tr = rotate_model_zaxis(self.model, theta)\n",
    "        return model_tr\n",
    "    "
   ]
  },
  {
   "cell_type": "code",
   "execution_count": null,
   "id": "1ebc5aa4-f256-4902-8db4-38d5d40e3d8b",
   "metadata": {},
   "outputs": [],
   "source": [
    "model_rotation = ModelRotation(pc_centered)\n",
    "\n",
    "thetas = torch.tensor([0., np.pi*0.25, np.pi*0.5, np.pi*0.75, np.pi], dtype=torch.float32)\n",
    "\n",
    "point_rotated = model_rotation(thetas)\n",
    "\n",
    "point_rotated.shape"
   ]
  },
  {
   "cell_type": "code",
   "execution_count": null,
   "id": "0cabccd7-1365-45a3-960d-5c7b8f4dcb8a",
   "metadata": {},
   "outputs": [],
   "source": [
    "def view_fit_with_partial_view(pc):\n",
    "    fig = view_points_groups(points_xyz_list=[pc_centered[:,:3], partial_pc_centered[:,:3]], \n",
    "                       colors_list=[np.array([0, 0., 0.]), np.array([1., 0., 0.])], \n",
    "                       marker_size_list=[5, 5])\n",
    "    return fig"
   ]
  },
  {
   "cell_type": "code",
   "execution_count": null,
   "id": "e2cb3a11-e30e-43b3-b5c5-fe78c2a88196",
   "metadata": {},
   "outputs": [],
   "source": [
    "view_fit_with_partial_view(point_rotated[0])"
   ]
  },
  {
   "cell_type": "code",
   "execution_count": null,
   "id": "6ac1bf6f-1b81-4095-91eb-c523e9177edf",
   "metadata": {},
   "outputs": [],
   "source": [
    "view_fit_with_partial_view(point_rotated[1])"
   ]
  },
  {
   "cell_type": "code",
   "execution_count": null,
   "id": "913570d1-8d3d-48e3-8b3f-91d3872a14f2",
   "metadata": {},
   "outputs": [],
   "source": [
    "view_fit_with_partial_view(point_rotated[2])"
   ]
  },
  {
   "cell_type": "code",
   "execution_count": null,
   "id": "462388c6-7184-4493-9f32-1ddade95a019",
   "metadata": {},
   "outputs": [],
   "source": [
    "view_fit_with_partial_view(point_rotated[3])"
   ]
  },
  {
   "cell_type": "code",
   "execution_count": null,
   "id": "043f1832-fd87-45d2-91bc-df8c9c5194b6",
   "metadata": {},
   "outputs": [],
   "source": [
    "view_fit_with_partial_view(point_rotated[4])"
   ]
  },
  {
   "cell_type": "code",
   "execution_count": null,
   "id": "64a4b60d-4dd2-4574-9e49-2450728102b5",
   "metadata": {},
   "outputs": [],
   "source": [
    "def view_fit_with_partial_and_free_sapce_view(pc):\n",
    "    fig = view_points_groups(points_xyz_list=[pc[:,:3], partial_pc_centered[:,:3], free_points_w_sampled_centered], \n",
    "                       colors_list=[np.array([0, 0., 0.]), np.array([1., 0., 0.]) , np.array([.0, 0., 1.])], \n",
    "                       marker_size_list=[5, 5, 5])\n",
    "    return fig"
   ]
  },
  {
   "cell_type": "code",
   "execution_count": null,
   "id": "efbfb543",
   "metadata": {},
   "outputs": [],
   "source": [
    "view_fit_with_partial_and_free_sapce_view(point_rotated[1])"
   ]
  },
  {
   "cell_type": "code",
   "execution_count": null,
   "id": "0bd8b16c",
   "metadata": {},
   "outputs": [],
   "source": [
    "view_fit_with_partial_and_free_sapce_view(point_rotated[4])"
   ]
  },
  {
   "cell_type": "markdown",
   "id": "6e67c78f",
   "metadata": {},
   "source": [
    "## Build the SDF to get free space and occupied space information"
   ]
  },
  {
   "cell_type": "code",
   "execution_count": null,
   "id": "0d8695aa",
   "metadata": {},
   "outputs": [],
   "source": [
    "obj = pv.MeshObjectFactory(YCB_MUG_PATH)\n",
    "sdf = pv.MeshSDF(obj)\n",
    "query_range = np.array([\n",
    "    [-0.15, 0.15],\n",
    "    [-0.15, 0.15],\n",
    "    [0.0, 0.0],\n",
    "])\n",
    "_ = pv.draw_sdf_slice(sdf, query_range)"
   ]
  },
  {
   "cell_type": "code",
   "execution_count": null,
   "id": "fc1ed344",
   "metadata": {},
   "outputs": [],
   "source": [
    "# Test with a set of free space points\n",
    "EPS = 1e-5\n",
    "sdf_val, sdf_grad = sdf(free_points_w_sampled)\n",
    "print('num_inside_points:', torch.sum(sdf_val < -EPS))\n",
    "print('num_outside_points:', torch.sum(sdf_val > EPS))\n",
    "print('num_surface_points:', torch.sum(torch.abs(sdf_val) < EPS))"
   ]
  },
  {
   "cell_type": "code",
   "execution_count": null,
   "id": "b713f944",
   "metadata": {},
   "outputs": [],
   "source": [
    "torch.sum(sdf_val < 0)"
   ]
  },
  {
   "cell_type": "code",
   "execution_count": null,
   "id": "c3ee1b78",
   "metadata": {},
   "outputs": [],
   "source": [
    "EPS = 1e-4\n",
    "sdf_val, sdf_grad = sdf(partial_pc_downsampled[...,:3])\n",
    "print('num_inside_points:', torch.sum(sdf_val < -EPS))\n",
    "print('num_outside_points:', torch.sum(sdf_val > EPS))\n",
    "print('num_surface_points:', torch.sum(torch.abs(sdf_val) < EPS))"
   ]
  },
  {
   "cell_type": "code",
   "execution_count": null,
   "id": "31adcba8",
   "metadata": {},
   "outputs": [],
   "source": [
    "def sdf_with_gradients_wrapper(sdf_function):\n",
    "    class SDFWithGradients(torch.autograd.Function):\n",
    "        @staticmethod\n",
    "        def forward(ctx, points):\n",
    "            sdf_value, sdf_grad = sdf_function(points)\n",
    "            ctx.save_for_backward(sdf_grad)\n",
    "            return sdf_value\n",
    "        \n",
    "        @staticmethod\n",
    "        def backward(ctx, grad_outputs):\n",
    "            sdf_grad, = ctx.saved_tensors\n",
    "#             import pdb; pdb.set_trace()\n",
    "            grad_out = grad_outputs[...,None]*sdf_grad\n",
    "            return grad_out\n",
    "            \n",
    "    return SDFWithGradients.apply\n",
    "        \n",
    "    "
   ]
  },
  {
   "cell_type": "code",
   "execution_count": null,
   "id": "efe5bb41",
   "metadata": {},
   "outputs": [],
   "source": [
    "class SDFRotationModel(nn.Module):\n",
    "\n",
    "    def __init__(self, mesh_path, init_tr=None):\n",
    "        super().__init__()\n",
    "        obj = pv.MeshObjectFactory(mesh_path)\n",
    "        self.sdf = sdf_with_gradients_wrapper(pv.MeshSDF(obj))\n",
    "        self.T = None\n",
    "        if init_tr is not None:\n",
    "            self.T = torch.linalg.inv(init_tr)\n",
    "            \n",
    "    def forward(self, points, theta):\n",
    "        # points (..., N, 3)\n",
    "        # theta (..., 1)\n",
    "        query_points = self._get_query_points(points, theta) # (..., N, 3)\n",
    "        sdf_val = self.sdf(query_points) # (..., N)\n",
    "        return sdf_val\n",
    "    \n",
    "    def _get_query_points(self, points, theta):\n",
    "        # points (..., N, 3)\n",
    "        # theta (..., 1)\n",
    "        # rotate the pointcloud by thetas\n",
    "        R = self._build_rotation_matrix(-theta) # (..., 3, 3) # NOTE that we rotate -theta since we need to put it back to the reference frame\n",
    "        # transform the model points\n",
    "        query_points = torch.einsum('...ij,...kj->...ki', R, points)\n",
    "        # transform if init_tr:\n",
    "        if self.T is not None:\n",
    "            query_points = self._tr_points(query_points, T=self.T)\n",
    "        return query_points\n",
    "    \n",
    "    def _tr_points(self, points, T):\n",
    "        # points: (..., 3)\n",
    "        # T: (4, 4) matrix\n",
    "        points_tr = tr_points(points, T)\n",
    "        return points_tr\n",
    "        \n",
    "    def _build_rotation_matrix(self, theta):\n",
    "        ctheta = torch.cos(theta)\n",
    "        stheta = torch.sin(theta)\n",
    "        ones = torch.ones_like(theta, dtype=theta.dtype)\n",
    "        zeros = torch.zeros_like(theta, dtype=theta.dtype)\n",
    "        R1x = torch.stack([ctheta, -stheta, zeros], dim=-1)\n",
    "        R2x = torch.stack([stheta, ctheta, zeros], dim=-1)\n",
    "        R3x = torch.stack([zeros, zeros, ones], dim=-1)\n",
    "        R = torch.stack([R1x, R2x, R3x], dim=-2)\n",
    "        return R\n",
    "    "
   ]
  },
  {
   "cell_type": "code",
   "execution_count": null,
   "id": "1bae755c",
   "metadata": {},
   "outputs": [],
   "source": [
    "center_tr"
   ]
  },
  {
   "cell_type": "code",
   "execution_count": null,
   "id": "7793c929",
   "metadata": {},
   "outputs": [],
   "source": [
    "init_tr = torch.tensor(pose_to_matrix(center_tr), dtype=torch.float32)\n",
    "sdf_rotation_model = SDFRotationModel(YCB_MUG_PATH, init_tr=init_tr)"
   ]
  },
  {
   "cell_type": "code",
   "execution_count": null,
   "id": "f07c66d9",
   "metadata": {},
   "outputs": [],
   "source": [
    "points = torch.rand((len(thetas),50,3), dtype=torch.float32)\n",
    "# thetas = torch.tensor([0, 0.25*np.pi, 0.5*pi, 0.], dtype=torch.float32)\n",
    "sdf_val = sdf_rotation_model(points, thetas)\n",
    "sdf_val.shape"
   ]
  },
  {
   "cell_type": "code",
   "execution_count": null,
   "id": "be4bb26d",
   "metadata": {},
   "outputs": [],
   "source": [
    "# class CustomLoss(torch.nn.Module):\n",
    "#     def __init__(self, free_space_points, surface_points):\n",
    "#         super().__init__()\n",
    "#         self.eps = 3.5e-4\n",
    "#         self.free_space_points = free_space_points # (M, 3)\n",
    "#         self.surface_points = surface_points # (P, 3)\n",
    "        \n",
    "#     def forward(self, sdf_model, thetas):\n",
    "#         # thetas: (N, 1)\n",
    "#         # loss (N,)\n",
    "#         surface_loss = self._compute_surface_loss(sdf_model, thetas) #(N,)\n",
    "#         free_loss = self._compute_free_loss(sdf_model, thetas) #(N, )\n",
    "#         loss = surface_loss + 100*free_loss\n",
    "# #         print('Surface loss:', surface_loss)\n",
    "# #         print('Free space loss:', free_loss)\n",
    "#         return loss\n",
    "    \n",
    "#     def _compute_surface_loss(self, sdf_model, thetas):\n",
    "#         N = thetas.shape[0]\n",
    "#         surface_query_points = torch.repeat_interleave(self.surface_points.unsqueeze(0), N, dim=0) # (N, M, 3)\n",
    "#         sdf_surface_val, _ = sdf_model(self.surface_points, thetas) # (N, P)\n",
    "#         sdf_surface_val[torch.abs(sdf_surface_val) < self.eps] = 0\n",
    "#         surface_loss = torch.mean(torch.abs(sdf_surface_val), dim=1) #(N,)\n",
    "#         return surface_loss\n",
    "    \n",
    "#     def _compute_free_loss(self, sdf_model, thetas):\n",
    "#         N = thetas.shape[0]\n",
    "#         free_query_points = torch.repeat_interleave(self.free_space_points.unsqueeze(0), N, dim=0) # (N, P, 3)\n",
    "#         sdf_free_val, _ = sdf_model(self.free_space_points, thetas) # (N, M)\n",
    "#         free_loss = torch.mean(torch.abs(torch.minimum(torch.zeros_like(sdf_free_val), sdf_free_val)), dim=1) #(N, )\n",
    "#         return free_loss\n",
    "\n",
    "\n",
    "class CustomLoss(torch.nn.Module):\n",
    "    def __init__(self, free_space_points, surface_points):\n",
    "        super().__init__()\n",
    "        self.eps = 3.5e-4\n",
    "        self.free_space_points = free_space_points # (M, 3)\n",
    "        self.surface_points = surface_points # (P, 3)\n",
    "        \n",
    "    def forward(self, sdf_model, thetas):\n",
    "        # thetas: (N, 1)\n",
    "        # loss (N,)\n",
    "        surface_loss = self._compute_surface_loss(sdf_model, thetas) #(N,)\n",
    "        free_loss = self._compute_free_loss(sdf_model, thetas) #(N, )\n",
    "        loss = surface_loss + 100*free_loss\n",
    "#         print('Surface loss:', surface_loss)\n",
    "#         print('Free space loss:', free_loss)\n",
    "        return loss\n",
    "    \n",
    "    def _compute_surface_loss(self, sdf_model, thetas):\n",
    "        N = thetas.shape[0]\n",
    "        surface_query_points = torch.repeat_interleave(self.surface_points.unsqueeze(0), N, dim=0) # (N, M, 3)\n",
    "        sdf_surface_val = sdf_model(self.surface_points, thetas) # (N, P)\n",
    "#         sdf_surface_val[torch.abs(sdf_surface_val) < self.eps] = 0\n",
    "        sdf_surface_val = F.threshold(sdf_surface_val, threshold=self.eps, value=0) - F.threshold(-sdf_surface_val, threshold=self.eps, value=0) # this is the same as above\n",
    "        surface_loss = torch.mean(torch.abs(sdf_surface_val), dim=1) # (N,)\n",
    "        return surface_loss\n",
    "    \n",
    "    def _compute_free_loss(self, sdf_model, thetas):\n",
    "        N = thetas.shape[0]\n",
    "        free_query_points = torch.repeat_interleave(self.free_space_points.unsqueeze(0), N, dim=0) # (N, P, 3)\n",
    "        sdf_free_val = sdf_model(self.free_space_points, thetas) # (N, M)\n",
    "        free_loss = torch.mean(torch.abs(torch.minimum(torch.zeros_like(sdf_free_val), sdf_free_val)), dim=1) #(N, )\n",
    "        return free_loss"
   ]
  },
  {
   "cell_type": "code",
   "execution_count": null,
   "id": "708acc52",
   "metadata": {},
   "outputs": [],
   "source": [
    "free_points = torch.tensor(free_points_w_sampled_centered, dtype=torch.float32)\n",
    "surface_points = torch.tensor(partial_pc_centered[...,:3], dtype=torch.float32)\n",
    "loss_fn = CustomLoss(free_points, surface_points)"
   ]
  },
  {
   "cell_type": "code",
   "execution_count": null,
   "id": "57d1526f",
   "metadata": {},
   "outputs": [],
   "source": [
    "thetas"
   ]
  },
  {
   "cell_type": "code",
   "execution_count": null,
   "id": "4b7513f5",
   "metadata": {},
   "outputs": [],
   "source": [
    "loss_values = loss_fn(sdf_rotation_model, thetas)\n",
    "print('Thetas:', thetas)\n",
    "print(loss_values)"
   ]
  },
  {
   "cell_type": "code",
   "execution_count": null,
   "id": "dde3a4a0",
   "metadata": {},
   "outputs": [],
   "source": [
    "thetas = torch.tensor([0., 0.05*np.pi, -0.05*np.pi, np.pi*0.25, np.pi*0.5, np.pi*0.75, np.pi], dtype=torch.float32)\n",
    "\n",
    "loss_values = loss_fn(sdf_rotation_model, thetas)\n",
    "print('Thetas:', thetas)\n",
    "print(loss_values)"
   ]
  },
  {
   "cell_type": "code",
   "execution_count": null,
   "id": "d433cdae",
   "metadata": {},
   "outputs": [],
   "source": [
    "point_rotated = model_rotation(thetas)"
   ]
  },
  {
   "cell_type": "code",
   "execution_count": null,
   "id": "a5a4fe18",
   "metadata": {},
   "outputs": [],
   "source": [
    "view_fit_with_partial_and_free_sapce_view(point_rotated[0])"
   ]
  },
  {
   "cell_type": "code",
   "execution_count": null,
   "id": "ef656d1e",
   "metadata": {},
   "outputs": [],
   "source": [
    "view_fit_with_partial_and_free_sapce_view(point_rotated[2])"
   ]
  },
  {
   "cell_type": "code",
   "execution_count": null,
   "id": "acae562e",
   "metadata": {},
   "outputs": [],
   "source": []
  },
  {
   "cell_type": "code",
   "execution_count": null,
   "id": "d7a37172",
   "metadata": {},
   "outputs": [],
   "source": [
    "query_range = np.array([\n",
    "    [-0.15, 0.15],\n",
    "    [-0.15, 0.15],\n",
    "    [0.0235, 0.0235],\n",
    "])\n",
    "_ = pv.draw_sdf_slice(sdf, query_range)"
   ]
  },
  {
   "cell_type": "code",
   "execution_count": null,
   "id": "2379958e",
   "metadata": {},
   "outputs": [],
   "source": [
    "query_range = np.array([\n",
    "    [-0.15, 0.15],\n",
    "    [-0.15, 0.15],\n",
    "    [0.0235, 0.0235],\n",
    "])\n",
    "\n",
    "class SDFRotated(nn.Module):\n",
    "    def __init__(self, sdf_rot_model, theta):\n",
    "        super().__init__()\n",
    "        self.sdf_rot_model = sdf_rot_model\n",
    "        self.theta = theta\n",
    "        \n",
    "    def forward(self, points):\n",
    "        return self.sdf_rot_model(points, self.theta)\n",
    "        \n",
    "        \n",
    "sdf_rot = SDFRotated(sdf_rotation_model, torch.tensor([np.pi*.75], dtype=torch.float32))\n",
    "_ = pv.draw_sdf_slice(sdf_rot, query_range)"
   ]
  },
  {
   "cell_type": "markdown",
   "id": "2dcdabc2",
   "metadata": {},
   "source": []
  },
  {
   "cell_type": "code",
   "execution_count": null,
   "id": "95ba1611",
   "metadata": {},
   "outputs": [],
   "source": [
    "points_centered = torch.tensor(pc_centered[:,:3], dtype=torch.float32)\n",
    "\n",
    "def debug_theta(theta):\n",
    "    \n",
    "    free_points_ref = sdf_rotation_model._get_query_points(free_points, theta)[0]\n",
    "    surface_points_ref = sdf_rotation_model._get_query_points(surface_points, theta)[0]\n",
    "    points_ref = sdf_rotation_model._get_query_points(points_centered, theta)[0]\n",
    "    fig = view_points_groups(points_xyz_list=[pc[:,:3], points_ref,  surface_points_ref, free_points_ref], \n",
    "                       colors_list=[np.array([0, 0., 0.]),np.array([0, 1., 0.]), np.array([1., 0., 0.]) , np.array([.0, 0., 1.])], \n",
    "                       marker_size_list=[5, 5, 5, 5])\n",
    "    return fig\n",
    "    "
   ]
  },
  {
   "cell_type": "code",
   "execution_count": null,
   "id": "5bb5e4a0",
   "metadata": {},
   "outputs": [],
   "source": [
    "debug_theta(torch.tensor([0.], dtype=torch.float32))"
   ]
  },
  {
   "cell_type": "code",
   "execution_count": null,
   "id": "f936e454",
   "metadata": {},
   "outputs": [],
   "source": [
    "debug_theta(torch.tensor([0.5*np.pi], dtype=torch.float32))"
   ]
  },
  {
   "cell_type": "code",
   "execution_count": null,
   "id": "777b9ac9",
   "metadata": {},
   "outputs": [],
   "source": [
    "# plot the loss values acrross a set of thetas\n",
    "\n",
    "theta_range = torch.linspace(-np.pi, np.pi, 100)\n",
    "free_loss = loss_fn._compute_free_loss(sdf_rotation_model, theta_range)\n",
    "surface_loss = loss_fn._compute_surface_loss(sdf_rotation_model, theta_range)\n",
    "loss_values = loss_fn(sdf_rotation_model, theta_range)\n",
    "\n",
    "plt.plot(theta_range, loss_values, label='loss')\n",
    "plt.plot(theta_range, free_loss, label='free_loss')\n",
    "plt.plot(theta_range, surface_loss, label='surface_loss')\n",
    "plt.legend()"
   ]
  },
  {
   "cell_type": "markdown",
   "id": "eddc1119",
   "metadata": {},
   "source": [
    "# Testing the SVGD:"
   ]
  },
  {
   "cell_type": "markdown",
   "id": "18af75be",
   "metadata": {},
   "source": [
    "# Convert the cost function into a probability"
   ]
  },
  {
   "cell_type": "code",
   "execution_count": null,
   "id": "039521a7",
   "metadata": {},
   "outputs": [],
   "source": []
  },
  {
   "cell_type": "code",
   "execution_count": null,
   "id": "50102c96",
   "metadata": {},
   "outputs": [],
   "source": [
    "class RBF(torch.nn.Module):\n",
    "    def __init__(self, sigma=None):\n",
    "        super(RBF, self).__init__()\n",
    "        self.sigma = sigma\n",
    "\n",
    "    def forward(self, X, Y):\n",
    "#         import pdb; pdb.set_trace()\n",
    "        if len(X.shape) == 1:\n",
    "            X = X.unsqueeze(-1)\n",
    "        if len(Y.shape) == 1:\n",
    "            Y = Y.unsqueeze(-1)\n",
    "        XX = X.matmul(X.t())\n",
    "        XY = X.matmul(Y.t())\n",
    "        YY = Y.matmul(Y.t())\n",
    "\n",
    "        dnorm2 = -2 * XY + XX.diag().unsqueeze(1) + YY.diag().unsqueeze(0)\n",
    "\n",
    "        # Apply the median heuristic (PyTorch does not give true median)\n",
    "        if self.sigma is None:\n",
    "            np_dnorm2 = dnorm2.detach().cpu().numpy()\n",
    "            h = np.median(np_dnorm2) / (2 * np.log(X.size(0) + 1))\n",
    "            sigma = np.sqrt(h).item()\n",
    "        else:\n",
    "            sigma = self.sigma\n",
    "\n",
    "        gamma = 1.0 / (1e-8 + 2 * sigma ** 2)\n",
    "        K_XY = (-gamma * dnorm2).exp()\n",
    "\n",
    "        return K_XY\n",
    "  \n",
    "# Let us initialize a reusable instance right away.\n",
    "K = RBF()"
   ]
  },
  {
   "cell_type": "code",
   "execution_count": null,
   "id": "2dac6d52",
   "metadata": {},
   "outputs": [],
   "source": [
    "class SVGD:\n",
    "    def __init__(self, P, K, optimizer):\n",
    "        self.P = P\n",
    "        self.K = K\n",
    "        self.optim = optimizer\n",
    "\n",
    "    def phi(self, X):\n",
    "        X = X.detach().requires_grad_(True)\n",
    "\n",
    "        log_prob = self.P.log_prob(X)\n",
    "        score_func = autograd.grad(log_prob.sum(), X)[0]\n",
    "\n",
    "        K_XX = self.K(X, X.detach())\n",
    "        grad_K = -autograd.grad(K_XX.sum(), X)[0]\n",
    "        phi = (K_XX.detach().matmul(score_func) + grad_K) / X.size(0)\n",
    "\n",
    "        return phi\n",
    "\n",
    "    def step(self, X):\n",
    "        self.optim.zero_grad()\n",
    "        X.grad = -self.phi(X)\n",
    "        self.optim.step()"
   ]
  },
  {
   "cell_type": "code",
   "execution_count": null,
   "id": "96af35e8",
   "metadata": {},
   "outputs": [],
   "source": [
    "class CostProb(object):\n",
    "    def __init__(self, cost_fnc):\n",
    "        self.cost = cost_fnc\n",
    "        \n",
    "    def log_prob(self, x):\n",
    "        logp = -self.cost(x)\n",
    "#         import pdb; pdb.set_trace()\n",
    "        return logp\n",
    "        "
   ]
  },
  {
   "cell_type": "code",
   "execution_count": null,
   "id": "76e4e86a",
   "metadata": {},
   "outputs": [],
   "source": [
    "def cost_function_wrapper(thetas):\n",
    "    cost = loss_fn(sdf_rotation_model,thetas)\n",
    "    return cost\n",
    "\n",
    "# device = torch.device('cuda' if torch.cuda.is_available() else 'cpu')\n",
    "device = torch.device('cpu')\n",
    "\n",
    "n = 20\n",
    "\n",
    "X_init = torch.tensor(np.random.uniform(-np.pi, np.pi, (n,)), dtype=torch.float32).to(device)\n",
    "X_init.device\n",
    "\n",
    "X = X_init.clone()\n",
    "cost_prob = CostProb(cost_function_wrapper)\n",
    "svgd = SVGD(cost_prob, K, optim.Adam([X], lr=3e-3))\n",
    "for _ in tqdm(range(1000)):\n",
    "    svgd.step(X)"
   ]
  },
  {
   "cell_type": "code",
   "execution_count": null,
   "id": "fd9b48e7",
   "metadata": {},
   "outputs": [],
   "source": [
    "def plot_particles(X_star, X_init):\n",
    "    fig, axes = plt.subplots(1, 2, figsize=(10, 5))\n",
    "    costs_init = cost_function_wrapper(X_init)\n",
    "    costs_star = cost_function_wrapper(X_star)\n",
    "    min_theta = min(-np.pi, min(X_star.min(), X_init.min() ))\n",
    "    max_theta = max(np.pi, max(X_star.max(), X_init.max() ))\n",
    "    theta_range = torch.linspace(min_theta, max_theta, 100)\n",
    "    loss_values = loss_fn(sdf_rotation_model, theta_range)\n",
    "    axes[0].plot(theta_range, loss_values, label='loss')\n",
    "    axes[0].scatter(X_init, costs_init, color='red')\n",
    "    axes[1].plot(theta_range, loss_values, label='loss')\n",
    "    axes[1].scatter(X_star, costs_star, color='red')\n",
    "    "
   ]
  },
  {
   "cell_type": "code",
   "execution_count": null,
   "id": "ba93ba66",
   "metadata": {},
   "outputs": [],
   "source": [
    "plot_particles(X, X_init)"
   ]
  },
  {
   "cell_type": "code",
   "execution_count": null,
   "id": "9bafd0b4",
   "metadata": {},
   "outputs": [],
   "source": [
    "# plot the loss values acrross a set of thetas\n",
    "\n",
    "theta_range = torch.linspace(-np.pi, np.pi, 100)\n",
    "loss_values = loss_fn(sdf_rotation_model, theta_range)\n",
    "cost_fun_values = torch.exp(-loss_values)\n",
    "plt.plot(theta_range, cost_fun_values, label='loss')\n",
    "plt.legend()"
   ]
  },
  {
   "cell_type": "code",
   "execution_count": null,
   "id": "bcf5d92f",
   "metadata": {},
   "outputs": [],
   "source": []
  }
 ],
 "metadata": {
  "kernelspec": {
   "display_name": "Python 3 (ipykernel)",
   "language": "python",
   "name": "python3"
  },
  "language_info": {
   "codemirror_mode": {
    "name": "ipython",
    "version": 3
   },
   "file_extension": ".py",
   "mimetype": "text/x-python",
   "name": "python",
   "nbconvert_exporter": "python",
   "pygments_lexer": "ipython3",
   "version": "3.9.16"
  }
 },
 "nbformat": 4,
 "nbformat_minor": 5
}
